{
    "metadata": {
        "kernelspec": {
            "name": "SQL",
            "display_name": "SQL",
            "language": "sql"
        },
        "language_info": {
            "name": "sql",
            "version": ""
        }
    },
    "nbformat_minor": 2,
    "nbformat": 4,
    "cells": [
        {
            "cell_type": "markdown",
            "source": [
                "**<mark>CREATE DATABASE NAMED SEC\\_SCH</mark>**"
            ],
            "metadata": {
                "language": "sql",
                "azdata_cell_guid": "ab29cbc2-e837-4604-aa2f-aff08a3c01dc"
            },
            "attachments": {}
        },
        {
            "cell_type": "code",
            "source": [
                "CREATE DATABASE SEC_SCH"
            ],
            "metadata": {
                "language": "sql",
                "azdata_cell_guid": "b7e22b7c-43f2-4fcc-b329-16110a6bdf9c"
            },
            "outputs": [],
            "execution_count": null
        },
        {
            "cell_type": "markdown",
            "source": [
                "**<mark>CREATE SCHEMAS FOR THE DATABASE</mark>**"
            ],
            "metadata": {
                "azdata_cell_guid": "499863a6-8c2a-485b-9c49-2945a26546bf"
            },
            "attachments": {}
        },
        {
            "cell_type": "code",
            "source": [
                "--CREATE SCHEMA ADM_REC\r\n",
                "CREATE SCHEMA ADM_REC"
            ],
            "metadata": {
                "azdata_cell_guid": "0b475705-36f1-4ace-a5b6-959557d7d7a7",
                "language": "sql",
                "tags": []
            },
            "outputs": [],
            "execution_count": null
        },
        {
            "cell_type": "code",
            "source": [
                "--CREATE SCHEMA ADM_ACA\r\n",
                "CREATE SCHEMA ADM_ACA"
            ],
            "metadata": {
                "language": "sql",
                "azdata_cell_guid": "acbebf8c-efca-499e-91db-e75f25e33bc0"
            },
            "outputs": [],
            "execution_count": null
        },
        {
            "cell_type": "code",
            "source": [
                "--CREATE SCHEMA ADM_WORKS\r\n",
                "CREATE SCHEMA ADM_WORKS"
            ],
            "metadata": {
                "language": "sql",
                "azdata_cell_guid": "bde94b32-0fa8-488c-95aa-e6d37f38d424"
            },
            "outputs": [],
            "execution_count": null
        },
        {
            "cell_type": "markdown",
            "source": [
                "<mark>**CREATE TABLES FOR THE DATABASE**</mark>"
            ],
            "metadata": {
                "language": "sql",
                "azdata_cell_guid": "74a05827-8140-4f2e-a3ab-5d8d64b79716"
            },
            "attachments": {}
        },
        {
            "cell_type": "code",
            "source": [
                "-- TABLE FOR STUDENT PARENTS\r\n",
                "create table ADM_REC.PARENT\r\n",
                "(\r\n",
                "PARENT_ID int IDENTITY (1,1) not null PRIMARY KEY,\r\n",
                "PARENT_NAME varchar(100) not null,\r\n",
                "PARENT_ADD varchar(255) not null,\r\n",
                "EMAIL_ADD varchar(100) not null,\r\n",
                "PHONE_NO varchar(11) not null,\r\n",
                "OCCUPATION varchar(50) not null,\r\n",
                "GENDER varchar(6) not null,\r\n",
                "RELATIONSHIP varchar(50) not null,\r\n",
                "FATHER_NAME VARCHAR(255) NOT NULL,\r\n",
                "MOTHER_NAME VARCHAR(255) NOT NULL,\r\n",
                "GUARDIAN_NAME VARCHAR (255),\r\n",
                ");"
            ],
            "metadata": {
                "language": "sql",
                "azdata_cell_guid": "59ec3a0a-f641-42d9-b1f7-60871f8e09d7",
                "tags": [
                    "hide_input"
                ]
            },
            "outputs": [],
            "execution_count": null
        },
        {
            "cell_type": "code",
            "source": [
                "-- CREATE TABLE FOR STUDENTS\r\n",
                "CREATE TABLE ADM_REC.STUDENTS\r\n",
                "    (STUDENT_ID int identity (1,1) not null PRIMARY KEY,\r\n",
                "    STUDENT_NAME varchar(100) not null,\r\n",
                "    STUDENT_DOB date not null,\r\n",
                "    GENDER varchar(6) not null,\r\n",
                "    STUDENT_REG_NO\tvarchar (12) not null unique,\r\n",
                "    ENROLL_DATE date not null,\r\n",
                "    STUDENT_ADD varchar(255) not null,\r\n",
                "    EMAIL_ADD varchar(100),\r\n",
                "    NEXTOFKIN varchar(100) not null,\r\n",
                "    EMER_CONTACT varchar(11) not null,\r\n",
                "    DISABILITY varchar(50) not null,\r\n",
                "    ALLERGIES varchar(50) not null,\r\n",
                "    BLOOD_GROUP VARCHAR(3) not null,\r\n",
                "    BLOOD_GENO varchar(2) not NULL,\r\n",
                "    PARENT_ID INT, \r\n",
                "    FOREIGN KEY (PARENT_ID) REFERENCES ADM_REC.PARENT(PARENT_ID) ON DELETE CASCADE ON UPDATE CASCADE\r\n",
                "   );"
            ],
            "metadata": {
                "azdata_cell_guid": "8d7d84d6-b9ab-4a41-905c-3dd07be88fab",
                "language": "sql",
                "tags": [
                    "hide_input"
                ]
            },
            "outputs": [],
            "execution_count": null
        },
        {
            "cell_type": "code",
            "source": [
                "--TABLE FOR DEPARTMENT\r\n",
                "create table ADM_REC.DEPT\r\n",
                "(DEPT_ID int IDENTITY(1,1) not null PRIMARY KEY,\r\n",
                "DEPT_NAME VARCHAR NOT NULL)\r\n",
                ""
            ],
            "metadata": {
                "azdata_cell_guid": "923701eb-f231-4c3a-8225-f350a9b0b2d7",
                "language": "sql",
                "tags": [
                    "hide_input"
                ]
            },
            "outputs": [],
            "execution_count": null
        },
        {
            "cell_type": "code",
            "source": [
                "-- TABLE FOR SCH STAFF\r\n",
                "create table ADM_REC.STAFF\r\n",
                "    (STAFF_ID int IDENTITY (1,1) NOT NULL primary key,\r\n",
                "     STAFF_NAME VARCHAR(100) not NULL,\r\n",
                "     STAFF_REG_NO varchar(15) not null UNIQUE,\r\n",
                "     APPOINTMENT_DATE date not NULL,\r\n",
                "     PHONE_NO varchar(11) not null,\r\n",
                "     EMAIL_ADD varchar (50) not null,\r\n",
                "     JOB_TITLE varchar(50) not null,\r\n",
                "     DOB date NOT null,\r\n",
                "     GENDER varchar (6) not null,\r\n",
                "     QUALIFICATION varchar (100) not NULL,\r\n",
                "     YEAROFSERVICE int not null,\r\n",
                "     NEXTOFKIN varchar(100) not null,\r\n",
                "     DISABILITY varchar(50) not null,\r\n",
                "     EMER_CONTACT varchar(11) not null,\r\n",
                "     );"
            ],
            "metadata": {
                "language": "sql",
                "azdata_cell_guid": "ec92e09a-e00a-44f2-ba57-a42a48594c7b",
                "tags": [
                    "hide_input"
                ]
            },
            "outputs": [],
            "execution_count": null
        },
        {
            "cell_type": "code",
            "source": [
                "--TABLE FOR TEACHERS\r\n",
                "create table ADM_REC.TEACHER\r\n",
                "(TEACHER_ID int identity (1,1) not null primary key,\r\n",
                "TEACHER_NAME varchar (100) not null,\r\n",
                "STAFF_ID int,\r\n",
                "FOREIGN KEY  (STAFF_ID) REFERENCES ADM_REC.STAFF (STAFF_ID) ON DELETE CASCADE ON UPDATE CASCADE,\r\n",
                ")"
            ],
            "metadata": {
                "language": "sql",
                "azdata_cell_guid": "5920eb99-d0db-4383-aed7-1cc889486083",
                "tags": [
                    "hide_input"
                ]
            },
            "outputs": [],
            "execution_count": null
        },
        {
            "cell_type": "code",
            "source": [
                "--TABLE FOR CLASSES\r\n",
                "CREATE TABLE ADM_REC_CLASS\r\n",
                "(CLASS_ID int IDENTITY(1,1) NOT NULL PRIMARY KEY,\r\n",
                "CLASS_NAME varchar(10) NOT NULL,\r\n",
                "CLASS_TEACHER int NOT NULL,\r\n",
                "FOREIGN KEY (CLASS_TEACHER) REFERENCES ADM_REC.TEACHER(TEACHER_ID) ON DELETE CASCADE ON UPDATE CASCADE)"
            ],
            "metadata": {
                "language": "sql",
                "azdata_cell_guid": "d5f99852-b2bd-4860-b69e-580aa02c57d0",
                "tags": [
                    "hide_input"
                ]
            },
            "outputs": [],
            "execution_count": null
        },
        {
            "cell_type": "code",
            "source": [
                "--TABLE FOR SUBJECTS\r\n",
                "CREATE TABLE ADM_ACA.SUBJECTS\r\n",
                "(SUBJECT_ID int IDENTITY(1,1) NOT NULL PRIMARY KEY,\r\n",
                "SUBJECT_NAME varchar(50) NOT NULL,\r\n",
                "CLASS_ID int NULL,\r\n",
                "SUBJECT_TEACHER int NOT NULL,\r\n",
                "FOREIGN KEY (CLASS_ID) REFERENCES ADM_REC.CLASS(CLASS_ID) ON UPDATE CASCADE ON DELETE CASCADE\r\n",
                "FOREIGN KEY (SUBJECT_TEACHER) REFERENCES ADM_REC.TEACHER(TEACHER_ID) ON UPDATE NO ACTION ON DELETE NO ACTION)\r\n",
                ""
            ],
            "metadata": {
                "azdata_cell_guid": "b4b62840-a4d8-41e7-acdf-95d656f49eef",
                "language": "sql",
                "tags": [
                    "hide_input"
                ]
            },
            "outputs": [],
            "execution_count": null
        },
        {
            "cell_type": "code",
            "source": [
                "-- TABLE FOR STUDENT RESULTS\r\n",
                "create table ADM_REC.RESULTS\r\n",
                "(STUDENT_ID int,\r\n",
                "CLASS_ID int,\r\n",
                " SUBJECT_ID int,\r\n",
                "FIRST_TEST int not NULL,\r\n",
                "SECOND_TEST int not null,\r\n",
                "EXAM int not null,\r\n",
                " FOREIGN KEY (STUDENT_ID) REFERENCES ADM_REC.STUDENTS (STUDENT_ID) ON DELETE CASCADE ON UPDATE CASCADE,\r\n",
                " FOREIGN KEY (CLASS_ID) REFERENCES ADM_REC.CLASS (CLASS_ID) ON DELETE no ACTION ON UPDATE NO ACTION,\r\n",
                " FOREIGN KEY (SUBJECT_ID) REFERENCES ADM_ACA.SUBJECTS(SUBJECT_ID) ON DELETE NO ACTION ON UPDATE NO ACTION)\r\n",
                ""
            ],
            "metadata": {
                "language": "sql",
                "azdata_cell_guid": "d12f5c65-cf58-4e52-9c85-66a43cb043a3",
                "tags": [
                    "hide_input"
                ]
            },
            "outputs": [],
            "execution_count": null
        },
        {
            "cell_type": "code",
            "source": [
                "--TABLE FOR SALARY\r\n",
                "USE SEC_SCH\r\n",
                "create table ADM_REC.SALARY\r\n",
                "(SALARY_ID INT IDENTITY(1,1) PRIMARY KEY,\r\n",
                "STAFF_ID int,\r\n",
                "DEPT_ID INT,\r\n",
                "SALARY int not null,\r\n",
                "FOREIGN KEY (STAFF_ID) REFERENCES ADM_REC.STAFF (STAFF_ID) ON DELETE CASCADE ON UPDATE CASCADE,\r\n",
                "FOREIGN KEY (DEPT_ID) REFERENCES ADM_REC.DEPT (DEPT_ID) ON DELETE NO ACTION ON UPDATE NO ACTION);\r\n",
                ""
            ],
            "metadata": {
                "language": "sql",
                "azdata_cell_guid": "3430778c-40ba-405f-8b7f-1ea01a97ac7c",
                "tags": [
                    "hide_input"
                ]
            },
            "outputs": [],
            "execution_count": null
        },
        {
            "cell_type": "code",
            "source": [
                "--TABLE FOR SCH FEE\r\n",
                "CREATE TABLE ADM_REC.SCH_FEE\r\n",
                "(STUDENT_ID int,\r\n",
                "PARENT_ID INT,\r\n",
                "CLASS_ID int,\r\n",
                " SCH_FEE INT not NULL,\r\n",
                " FEE_STATUS BIT DEFAULT '0' \r\n",
                " FOREIGN KEY (STUDENT_ID) REFERENCES ADM_REC.STUDENTS (STUDENT_ID) ON DELETE CASCADE ON UPDATE CASCADE,\r\n",
                " FOREIGN KEY (CLASS_ID) REFERENCES ADM_REC.CLASS (CLASS_ID) ON DELETE NO ACTION ON UPDATE NO ACTION,\r\n",
                "FOREIGN KEY (PARENT_ID) REFERENCES ADM_REC.PARENT (PARENT_ID) ON DELETE NO ACTION ON UPDATE NO ACTION) \r\n",
                ""
            ],
            "metadata": {
                "language": "sql",
                "azdata_cell_guid": "601b794f-c8ba-4a5d-a140-ab15deb3a97b",
                "tags": [
                    "hide_input"
                ]
            },
            "outputs": [],
            "execution_count": null
        },
        {
            "cell_type": "code",
            "source": [
                "--CREATE TABLE FOR LIBRARY\r\n",
                "CREATE TABLE ADM_REC.LIB\r\n",
                "  (LIB_ID INT IDENTITY (1,1) NOT NULL PRIMARY KEY,\r\n",
                "  STUDENT_ID int,\r\n",
                " FOREIGN KEY (STUDENT_ID) REFERENCES ADM_REC.STUDENTS (STUDENT_ID) ON DELETE CASCADE ON UPDATE CASCADE);\r\n",
                " "
            ],
            "metadata": {
                "language": "sql",
                "azdata_cell_guid": "41c383ae-62fa-415c-83ad-67a2a899db57",
                "tags": [
                    "hide_input"
                ]
            },
            "outputs": [],
            "execution_count": null
        },
        {
            "cell_type": "code",
            "source": [
                "-- CREATE BOOK RECORDS\r\n",
                "USE SEC_SCH\r\n",
                "CREATE TABLE ADM_REC.BOOKS_CATEGORY\r\n",
                "(CAT_ID INT NOT NULL PRIMARY KEY,\r\n",
                "CAT_NAME VARCHAR(50) NOT NULL\r\n",
                ")"
            ],
            "metadata": {
                "language": "sql",
                "azdata_cell_guid": "1c25df7e-8325-4e9d-bb4a-f3e3863fa1d1",
                "tags": [
                    "hide_input"
                ]
            },
            "outputs": [],
            "execution_count": null
        },
        {
            "cell_type": "code",
            "source": [
                "-- CREATE BOOKS TABLE\r\n",
                "USE SEC_SCH\r\n",
                "CREATE TABLE ADM_REC.BOOKS\r\n",
                "(CAT_ID INT,\r\n",
                "BOOK_ID INT NOT NULL PRIMARY KEY,\r\n",
                "BOOK_NAME VARCHAR(100) NOT NULL \r\n",
                "FOREIGN KEY (CAT_ID) REFERENCES ADM_REC.BOOKS_CATEGORY (CAT_ID) ON DELETE CASCADE ON UPDATE CASCADE\r\n",
                ")"
            ],
            "metadata": {
                "language": "sql",
                "azdata_cell_guid": "a18fdb84-2eb1-4375-b059-7687ff8501da",
                "tags": [
                    "hide_input"
                ]
            },
            "outputs": [],
            "execution_count": null
        },
        {
            "cell_type": "code",
            "source": [
                "--CREATE LIBRARY RECORDS\r\n",
                "USE SEC_SCH\r\n",
                "CREATE TABLE ADM_REC.LIB_RECORDS\r\n",
                "(LIB_ID VARCHAR(10),\r\n",
                "BOOK_ID INT,\r\n",
                "STUDENT_ID INT NULL,\r\n",
                "BOOK_STATUS BIT DEFAULT '0', -- 0= NOT BORROWED, 1= BORROWED\r\n",
                "COLECT_DATE DATE,\r\n",
                "RETURN_DATE DATE,\r\n",
                "FOREIGN KEY (LIB_ID) REFERENCES ADM_REC.LIB(LIB_ID) ON DELETE CASCADE ON UPDATE CASCADE,\r\n",
                "FOREIGN KEY (BOOK_ID) REFERENCES ADM_REC.BOOKS (BOOK_ID) ON DELETE NO ACTION ON UPDATE NO ACTION,\r\n",
                "FOREIGN KEY (STUDENT_ID) REFERENCES ADM_REC.STUDENTS (STUDENT_ID) ON DELETE NO ACTION ON UPDATE NO ACTION\r\n",
                " )"
            ],
            "metadata": {
                "language": "sql",
                "azdata_cell_guid": "b837eff9-cead-401d-b40f-7cb05b9ea386",
                "tags": [
                    "hide_input"
                ]
            },
            "outputs": [],
            "execution_count": null
        },
        {
            "cell_type": "code",
            "source": [
                "-- TABLE FOR BUS DRIVER\r\n",
                "CREATE TABLE ADM_WORKS.BUS_DRIVER\r\n",
                "(DRIVER_ID INT NOT NULL PRIMARY KEY,\r\n",
                "STAFF_ID INT,\r\n",
                "FOREIGN KEY (STAFF_ID) REFERENCES ADM_REC.STAFF(STAFF_ID) ON DELETE CASCADE ON UPDATE CASCADE)"
            ],
            "metadata": {
                "language": "sql",
                "azdata_cell_guid": "31bdc3a1-759d-417e-a202-9052e4607b20",
                "tags": [
                    "hide_input"
                ]
            },
            "outputs": [],
            "execution_count": null
        },
        {
            "cell_type": "code",
            "source": [
                "-- CREATE TABLE FOR BUS\r\n",
                "CREATE TABLE ADM_WORKS.BUS\r\n",
                "(BUS_ID INT NOT NULL PRIMARY KEY,\r\n",
                "DRIVER_ID INT\r\n",
                "FOREIGN KEY (DRIVER_ID) REFERENCES ADM_WORKS.BUS_DRIVER(DRIVER_ID) ON DELETE CASCADE ON UPDATE CASCADE\r\n",
                ")"
            ],
            "metadata": {
                "language": "sql",
                "azdata_cell_guid": "a7eebb4f-ec9d-476e-9d49-b68ca09a4cdb",
                "tags": [
                    "hide_input"
                ]
            },
            "outputs": [],
            "execution_count": null
        },
        {
            "cell_type": "code",
            "source": [
                "-- BUS ROUTE\r\n",
                "CREATE TABLE ADM_WORKS.BUS_ROUTE\r\n",
                "(BUS_ID INT,\r\n",
                "ROUTE_ID INT,\r\n",
                "STUDENT_ID INT,\r\n",
                "DRIVER_ID INT,\r\n",
                "FOREIGN KEY (BUS_ID) REFERENCES ADM_WORKS.BUS(BUS_ID) ON DELETE CASCADE ON UPDATE CASCADE,\r\n",
                "FOREIGN KEY (ROUTE_ID) REFERENCES ADM_WORKS.ROUTE_DESTINATION(ROUTE_ID) ON DELETE NO ACTION ON UPDATE NO ACTION,\r\n",
                "FOREIGN KEY (STUDENT_ID) REFERENCES ADM_REC.STUDENTS(STUDENT_ID) ON DELETE NO ACTION ON UPDATE NO ACTION,\r\n",
                "FOREIGN KEY (DRIVER_ID) REFERENCES ADM_WORKS.BUS_DRIVER(DRIVER_ID) ON DELETE NO ACTION ON UPDATE NO ACTION)"
            ],
            "metadata": {
                "language": "sql",
                "azdata_cell_guid": "05905c90-8697-467e-809e-a97f7a0bfde6",
                "tags": [
                    "hide_input"
                ]
            },
            "outputs": [],
            "execution_count": null
        },
        {
            "cell_type": "code",
            "source": [
                "--CREATE ROUTE DESTINATION\r\n",
                "CREATE TABLE ADM_WORKS.ROUTE_DESTINATION\r\n",
                "(ROUTE_ID INT NOT NULL PRIMARY KEY,\r\n",
                "ROUTE_DEST VARCHAR(250) NOT NULL,\r\n",
                "ROUTE_NAME VARCHAR(100) NOT NULL,\r\n",
                ")"
            ],
            "metadata": {
                "language": "sql",
                "azdata_cell_guid": "42f44bcc-05bb-4567-9ce7-097d62b92ffe",
                "tags": [
                    "hide_input"
                ]
            },
            "outputs": [],
            "execution_count": null
        },
        {
            "cell_type": "code",
            "source": [
                "--TABLE FOR CLINIC STAFF\r\n",
                "CREATE TABLE ADM_WORKS.CLINIC\r\n",
                "(CLINIC_ID INT IDENTITY(1,1) PRIMARY KEY,\r\n",
                "STAFF_ID INT\r\n",
                "FOREIGN KEY (STAFF_ID) REFERENCES ADM_REC.STAFF(STAFF_ID) ON DELETE CASCADE ON UPDATE CASCADE)"
            ],
            "metadata": {
                "language": "sql",
                "azdata_cell_guid": "6e8d91f2-c462-438e-972a-63c7e92dff5d",
                "tags": [
                    "hide_input"
                ]
            },
            "outputs": [],
            "execution_count": null
        },
        {
            "cell_type": "code",
            "source": [
                "--TABLE FOR STUDENT CLASS\r\n",
                "CREATE TABLE ADM_ACA.STUDENTCLASS\r\n",
                "(CLASS_ID INT,\r\n",
                "STUDENT_ID INT,\r\n",
                "FOREIGN KEY (CLASS_ID) REFERENCES ADM_REC.CLASS(CLASS_ID) ON DELETE CASCADE ON UPDATE CASCADE,\r\n",
                "FOREIGN KEY (STUDENT_ID) REFERENCES ADM_REC.STUDENTS(STUDENT_ID) ON DELETE NO ACTION ON UPDATE NO ACTION)"
            ],
            "metadata": {
                "azdata_cell_guid": "45f13ae3-e776-4bcd-ae2a-2c1f7b9924b3",
                "language": "sql",
                "tags": [
                    "hide_input"
                ]
            },
            "outputs": [],
            "execution_count": null
        },
        {
            "cell_type": "markdown",
            "source": [
                "<mark>**CREATING A STORED PROCEDURE**</mark>"
            ],
            "metadata": {
                "language": "sql",
                "azdata_cell_guid": "ad3f01e3-c147-45ed-85e9-c7e3e58cb484"
            },
            "attachments": {}
        },
        {
            "cell_type": "code",
            "source": [
                "--CREATING A PROCEDURE FOR INSERTING STUDENT RECORDS\r\n",
                "create PROCEDURE student_data\r\n",
                "@STUDENT_ID int, \r\n",
                "@STUDENT_NAME varchar(100),\r\n",
                " @STUDENT_DOB date,\r\n",
                "  @GENDER VARCHAR(6),\r\n",
                "   @STUDENT_REG_NO VARCHAR(12),\r\n",
                "    @STUDENT_ADD VARCHAR(100),\r\n",
                "     @EMAIL_ADD VARCHAR(50),\r\n",
                "      @NEXTOFKIN VARCHAR(100),\r\n",
                "       @EMER_CONTACT VARCHAR(200),\r\n",
                "        @DISABILITY VARCHAR(50),\r\n",
                "         @ALLERGIES VARCHAR(100), \r\n",
                "         @BLOOD_GROUP VARCHAR(3),\r\n",
                "          @BLOOD_GENO VARCHAR(2),\r\n",
                "          @PARENT_ID INT\r\n",
                "AS\r\n",
                "BEGIN\r\n",
                "INSERT INTO ADM_REC.STUDENTS(\r\n",
                "STUDENT_ID,\r\n",
                " STUDENT_NAME, \r\n",
                " STUDENT_DOB,\r\n",
                "  GENDER,\r\n",
                "   STUDENT_REG_NO,\r\n",
                "   STUDENT_ADD,\r\n",
                "   EMAIL_ADD,\r\n",
                "   NEXTOFKIN,\r\n",
                "   EMER_CONTACT,\r\n",
                "   DISABILITY,\r\n",
                "   ALLERGIES,\r\n",
                "    BLOOD_GROUP,\r\n",
                "     BLOOD_GENO,\r\n",
                "     PARENT_ID)\r\n",
                "     VALUES(\r\n",
                "         @STUDENT_ID,\r\n",
                "         @STUDENT_NAME,\r\n",
                "         @STUDENT_DOB,\r\n",
                "         @GENDER,\r\n",
                "         @STUDENT_REG_NO,\r\n",
                "         @STUDENT_ADD,\r\n",
                "         @EMAIL_ADD,\r\n",
                "         @NEXTOFKIN,\r\n",
                "         @EMER_CONTACT,\r\n",
                "         @DISABILITY,\r\n",
                "         @ALLERGIES,\r\n",
                "         @BLOOD_GROUP,\r\n",
                "         @BLOOD_GENO,\r\n",
                "         @PARENT_ID)\r\n",
                "END"
            ],
            "metadata": {
                "language": "sql",
                "azdata_cell_guid": "42fcac80-9d35-4038-95c7-0cb9847d4749",
                "tags": [
                    "hide_input"
                ]
            },
            "outputs": [
                {
                    "output_type": "display_data",
                    "data": {
                        "text/html": "Commands completed successfully."
                    },
                    "metadata": {}
                },
                {
                    "output_type": "display_data",
                    "data": {
                        "text/html": "Total execution time: 00:00:00.639"
                    },
                    "metadata": {}
                }
            ],
            "execution_count": 1
        },
        {
            "cell_type": "code",
            "source": [
                "--CREATING A TABLE TO HOLD RECORDS FROM THE TRIGGER OPERATION\r\n",
                "CREATE TABLE ADM_REC.UPDATEDSTUDENTDATA\r\n",
                "    (NEW_STUDENT_id INT IDENTITY PRIMARY KEY,\r\n",
                "    STUDENT_ID INT NOT NULL,\r\n",
                "    STUDENT_NAME VARCHAR(255) NOT NULL,\r\n",
                "    GENDER VARCHAR(6) NOT NULL,\r\n",
                "    STUDENT_REG_NO VARCHAR(12) NOT NULL,\r\n",
                "    ENROLL_DATE DATE NOT NULL,\r\n",
                "    EMER_CONTACT VARCHAR(11) NOT NULL,\r\n",
                "    PARENT_ID INT NOT NULL,\r\n",
                "    updated_at DATETIME NOT NULL,\r\n",
                "    operation CHAR(3) NOT NULL,\r\n",
                "    CHECK(operation = 'INS' or operation='DEL')\r\n",
                "    );"
            ],
            "metadata": {
                "language": "sql",
                "azdata_cell_guid": "44cde820-6a43-4190-b5a5-e38b8a552474",
                "tags": [
                    "hide_input"
                ]
            },
            "outputs": [
                {
                    "output_type": "display_data",
                    "data": {
                        "text/html": "Commands completed successfully."
                    },
                    "metadata": {}
                },
                {
                    "output_type": "display_data",
                    "data": {
                        "text/html": "Total execution time: 00:00:01.266"
                    },
                    "metadata": {}
                }
            ],
            "execution_count": 96
        },
        {
            "cell_type": "markdown",
            "source": [
                "<mark>**CREATING A TRIGGER THAT STORES STUDENT INFORMATION AFTER INSERT AND DELETE OF STUDENT RECORDS**</mark>"
            ],
            "metadata": {
                "azdata_cell_guid": "4f0182a3-f7cc-40fe-8332-c885d409e4cd",
                "language": ""
            },
            "attachments": {}
        },
        {
            "cell_type": "code",
            "source": [
                "CREATE TRIGGER ADM_REC.TRG_UPDATEDSTUDENTDATA\r\n",
                "ON ADM_REC.STUDENTS\r\n",
                "AFTER INSERT, DELETE\r\n",
                "AS\r\n",
                "BEGIN\r\n",
                "    SET NOCOUNT ON;\r\n",
                "    INSERT INTO ADM_REC.UPDATEDSTUDENTDATA\r\n",
                "    (STUDENT_ID,\r\n",
                "    STUDENT_NAME,\r\n",
                "    GENDER,\r\n",
                "    STUDENT_REG_NO,\r\n",
                "    ENROLL_DATE,\r\n",
                "    EMER_CONTACT,\r\n",
                "    PARENT_ID,\r\n",
                "    updated_at,\r\n",
                "    operation)\r\n",
                "    \r\n",
                "    SELECT\r\n",
                "    I.STUDENT_ID,\r\n",
                "    STUDENT_NAME,\r\n",
                "    GENDER,\r\n",
                "    STUDENT_REG_NO,\r\n",
                "    ENROLL_DATE,\r\n",
                "    EMER_CONTACT,\r\n",
                "    I.PARENT_ID,\r\n",
                "        GETDATE(),\r\n",
                "        'INS'\r\n",
                "    FROM\r\n",
                "        inserted i\r\n",
                "    UNION ALL\r\n",
                "    SELECT\r\n",
                "    D.STUDENT_ID,\r\n",
                "    STUDENT_NAME,\r\n",
                "    GENDER,\r\n",
                "    STUDENT_REG_NO,\r\n",
                "    ENROLL_DATE,\r\n",
                "    EMER_CONTACT,\r\n",
                "    D.PARENT_ID,\r\n",
                "        GETDATE(),\r\n",
                "        'DEL'\r\n",
                "    FROM\r\n",
                "        deleted d;\r\n",
                "END\r\n",
                ""
            ],
            "metadata": {
                "language": "sql",
                "azdata_cell_guid": "f486da6c-86e2-46ae-a5f5-4e5c129e9f44",
                "tags": [
                    "hide_input"
                ]
            },
            "outputs": [],
            "execution_count": null
        }
    ]
}