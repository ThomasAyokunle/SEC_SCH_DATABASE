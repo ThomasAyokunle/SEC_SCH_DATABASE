{
    "metadata": {
        "kernelspec": {
            "name": "SQL",
            "display_name": "SQL",
            "language": "sql"
        },
        "language_info": {
            "name": "sql",
            "version": ""
        }
    },
    "nbformat_minor": 2,
    "nbformat": 4,
    "cells": [
        {
            "cell_type": "markdown",
            "source": [
                "<mark>SHOWING STAFF WHO ARE TEACHERS</mark>"
            ],
            "metadata": {
                "language": "sql",
                "azdata_cell_guid": "d45f004d-6e8e-4bd5-9202-fe23b5a449d9"
            },
            "attachments": {}
        },
        {
            "cell_type": "code",
            "source": [
                "SELECT *\r\n",
                "FROM ADM_REC.TEACHER T\r\n",
                "INNER JOIN ADM_REC.STAFF S ON S.STAFF_ID=T.STAFF_ID"
            ],
            "metadata": {
                "language": "sql",
                "azdata_cell_guid": "f8623be8-0405-409b-abf5-3639c84cd9e5"
            },
            "outputs": [],
            "execution_count": null
        },
        {
            "cell_type": "markdown",
            "source": [
                "**<mark>SHOWING CLASS AND SUBJECT EACH TEACHER TEACHES</mark>**"
            ],
            "metadata": {
                "language": "sql",
                "azdata_cell_guid": "ac6628ad-4263-4532-b9d0-60ee02c1ef8e"
            },
            "attachments": {}
        },
        {
            "cell_type": "code",
            "source": [
                "-- SHOWING THE CLASS AND SUNJECT EACH TEACHER TEACHES\r\n",
                "--USING INNER JOIN TO SHOW TEACHERS, CLASS, SUBJECT, DEPT AND STAFF NAME  \r\n",
                "USE SEC_SCH\r\n",
                "SELECT S.SUBJECT_NAME, T.TEACHER_ID, SF.STAFF_NAME, SF.STAFF_ID,SF.QUALIFICATION, C.CLASS_ID, C.CLASS_NAME, C.CLASS_TEACHER, D.DEPT_ID, D.DEPT_NAME\r\n",
                "FROM ADM_ACA.SUBJECTS S\r\n",
                "INNER JOIN ADM_REC.TEACHER T ON T.TEACHER_ID = S.SUBJECT_TEACHER\r\n",
                "INNER JOIN ADM_REC.STAFF SF ON SF.STAFF_ID =T.STAFF_ID\r\n",
                "-- INNER JOIN ADM_REC.CLASS C ON C.CLASS_TEACHER= T.TEACHER_ID\r\n",
                "INNER JOIN ADM_REC.DEPT D ON D.DEPT_ID= SF.DEPT_ID\r\n",
                "INNER JOIN ADM_REC.CLASS C ON C.CLASS_ID = S.CLASS_ID"
            ],
            "metadata": {
                "language": "sql",
                "azdata_cell_guid": "7e7682f8-de72-4255-9700-5ce7efa3d294",
                "tags": [
                    "hide_input"
                ]
            },
            "outputs": [],
            "execution_count": null
        },
        {
            "cell_type": "markdown",
            "source": [
                "<mark>SHOWING STAFF EARNING BELOW AVG SALARY</mark>"
            ],
            "metadata": {
                "azdata_cell_guid": "b8ab3aa7-69a0-4703-823e-36d42df4ca46"
            },
            "attachments": {}
        },
        {
            "cell_type": "code",
            "source": [
                "SELECT S.SALARY_ID, S.STAFF_ID, S.SALARY, ST.STAFF_ID, ST.STAFF_NAME, ST.JOB_TITLE\r\n",
                "FROM ADM_REC.SALARY S\r\n",
                "INNER JOIN ADM_REC.STAFF ST ON ST.STAFF_ID = S.STAFF_ID\r\n",
                "WHERE SALARY <= (SELECT AVG(SALARY) FROM ADM_REC.SALARY)"
            ],
            "metadata": {
                "language": "sql",
                "azdata_cell_guid": "d84a5c09-55eb-4fd7-b921-aa7875f5b4f4",
                "tags": [
                    "hide_input"
                ]
            },
            "outputs": [],
            "execution_count": null
        },
        {
            "cell_type": "markdown",
            "source": [
                "SHOWING STAFF EARNING ABOVE AVG SALARY"
            ],
            "metadata": {
                "language": "sql",
                "azdata_cell_guid": "550e951e-3b26-44d0-85b1-1b80f14cf434"
            },
            "attachments": {}
        },
        {
            "cell_type": "code",
            "source": [
                "SELECT S.SALARY_ID, S.STAFF_ID, S.SALARY, ST.STAFF_ID, ST.STAFF_NAME, ST.JOB_TITLE\r\n",
                "FROM ADM_REC.SALARY S\r\n",
                "INNER JOIN ADM_REC.STAFF ST ON ST.STAFF_ID = S.STAFF_ID\r\n",
                "WHERE SALARY >= (SELECT AVG(SALARY) FROM ADM_REC.SALARY)"
            ],
            "metadata": {
                "language": "sql",
                "azdata_cell_guid": "7ba516b0-43a9-4da7-ba89-c068f8e86551",
                "tags": [
                    "hide_input"
                ]
            },
            "outputs": [],
            "execution_count": null
        },
        {
            "cell_type": "markdown",
            "source": [
                "<mark>**SHOWING STAFF AND DEPARTMENT RECORD**</mark>"
            ],
            "metadata": {
                "language": "",
                "azdata_cell_guid": "c94b1916-6b44-43ca-bd0b-ab2f986ac488"
            },
            "attachments": {}
        },
        {
            "cell_type": "code",
            "source": [
                "USE SEC_SCH\r\n",
                "SELECT S.STAFF_ID,S.STAFF_NAME, S.DEPT_ID, D.DEPT_ID, D.DEPT_NAME \r\n",
                "FROM ADM_REC.STAFF S \r\n",
                "INNER JOIN ADM_REC.DEPT D ON D.DEPT_ID = S.DEPT_ID"
            ],
            "metadata": {
                "azdata_cell_guid": "34d26112-f1d1-49d8-a098-24d6d0ac194a",
                "language": "sql",
                "tags": [
                    "hide_input"
                ]
            },
            "outputs": [],
            "execution_count": null
        }
    ]
}