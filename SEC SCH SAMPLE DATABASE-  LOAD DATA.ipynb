{
    "metadata": {
        "kernelspec": {
            "name": "SQL",
            "display_name": "SQL",
            "language": "sql"
        },
        "language_info": {
            "name": "sql",
            "version": ""
        }
    },
    "nbformat_minor": 2,
    "nbformat": 4,
    "cells": [
        {
            "cell_type": "markdown",
            "source": [
                "<mark>**INSERTING DATA INTO DATABASE SEC\\_SCH**</mark>"
            ],
            "metadata": {
                "azdata_cell_guid": "456d9487-7083-451f-90c6-453ae8e80ca5"
            },
            "attachments": {}
        },
        {
            "cell_type": "code",
            "source": [
                "USE SEC_SCH"
            ],
            "metadata": {
                "language": "sql",
                "azdata_cell_guid": "d23ffc35-4670-4a41-b82f-55376add779a"
            },
            "outputs": [],
            "execution_count": null
        },
        {
            "cell_type": "code",
            "source": [
                "-- INSERT DATA INTO STUDENTS TABLE\r\n",
                "SET IDENTITY_INSERT ADM_REC.STUDENTS ON\r\n",
                "INSERT INTO ADM_REC.STUDENTS(STUDENT_NAME, STUDENT_DOB, GENDER, STUDENT_REG_NO, ENROLL_DATE, STUDENT_ADD, EMAIL_ADD, NEXTOFKIN, EMER_CONTACT, DISABILITY, ALLERGIES, BLOOD_GROUP, BLOOD_GENO, PARENT_ID)\r\n",
                "VALUES \r\n",
                "('Chiamaka Adekunle', '2002-05-15', 'Female', 'OG/2022/001', '2022-01-18', 'No 5 Ijebu-Ode Road Sagamu Ogun State', 'chiamakaadekunle@gmail.com', 'Mrs Adekunle', '08012345678', '', '', 'O+', 'AA',1),\r\n",
                "('Abdullahi Sule', '2001-08-10', 'Male', 'OG/2022/002', '2022-01-18', 'No 1 Adeola Street Abeokuta Ogun State', 'abdullahisule@gmail.com', 'Mr Sule', '08023456789', '', '', 'B+', 'AS',2),\r\n",
                "('Kemi Oke', '2003-03-05', 'Female', 'OG/2022/003', '2022-01-20', 'No 3 Ibara Housing Estate Abeokuta Ogun State', 'kemioke@gmail.com', 'Mrs Oke', '08034567890', '', '', 'A+', 'AA',3),\r\n",
                "('Adetola Bello', '2001-11-25', 'Male', 'OG/2022/004', '2022-01-20', 'No 2 Ake Palace Road Abeokuta Ogun State', 'adetola.bello@gmail.com', 'Mr Bello', '08045678901', '', '', 'O-', 'AO',4),\r\n",
                "('Ngozi Okafor', '2002-01-01', 'Female', 'OG/2022/005', '2022-01-20', 'No 4 Ijebu-Igbo Road Ago-Iwoye Ogun State', 'ngozi.okafor@gmail.com', 'Mrs Okafor', '08056789012', '', '', 'AB+', 'BB',5),\r\n",
                "('Bolaji Fashola', '2003-06-15', 'Male', 'OG/2022/006', '2022-01-20', 'No 6 Unity Road Ota Ogun State', 'bolaji.fashola@gmail.com', 'Mr Fashola', '08067890123', '', '', 'O+', 'AO',6),\r\n",
                "('Amina Usman', '2002-09-20', 'Female', 'OG/2022/007', '2022-01-20', 'No 10 Akinremi Street Ijebu-Ode Ogun State', 'amina.usman@gmail.com', 'Mrs Usman', '08078901234', '', '', 'B-', 'BO',7),\r\n",
                "('Jide Salami', '2001-04-12', 'Male', 'OG/2022/008', '2022-01-20', 'No 8 Ojere Road, Abeokuta Ogun State', 'jide.salami@gmail.com', 'Mr Salami', '08089012345', '', '', 'A-', 'AO',8),\r\n",
                "('Tolani Adewale','2002-12-30', 'Female', 'OG/2022/009', '2022-01-22', 'No 12 Ijebu-Ode Road Ijebu-Igbo Ogun State', 'tolani.adewale@gmail.com', 'Mrs Adewale', '08090123456', '', '', 'B+','BO', 9),\r\n",
                "('Adeola Adewale', '2008-07-05', 'Male', 'OG/2022/010', '2022-01-22', 'No 12 Ijebu-Ode Road Ijebu-Igbo Ogun State', 'adeola.adeyemi@gmail.com', 'Mrs Adewale', '08090123456', '', '', 'AB-', 'AO', 9),\r\n",
                "('Chinwe Okoro', '2002-02-14', 'Female', 'OG/2022/011', '2023-01-22', 'No 6 Agbeloba House, Isara-Remo Ogun State', 'chinwe.okoro@gmail.com', 'Mrs Okoro', '08012345670', '', '', 'A+', 'AA',10),\r\n",
                "('Rahmat Abdul', '2003-04-20', 'Female', 'OG/2022/013', '2023-01-22', 'No 2a Kuto Road, Abeokuta Ogun State', 'rahmat.abdul@gmail.com', 'Mrs Abdul', '08034567812', '', '', 'B+', 'BO', ''),\r\n",
                "('Bamidele Adelaja', '2001-11-11', 'Male', 'OG/2022/014', '2023-01-22', 'No 5 Adebajo Street, Iperu-Remo Ogun State', 'bamidele.adelaja@gmail.com', 'Mr Adelaja', '08045678903', '', '', 'A-', 'AO', ''),\r\n",
                "('Titi Ogunleye', '2002-06-30', 'Female', 'OG/2022/015', '2023-01-22', 'No 8 Iyana Mortuary Road, Sagamu Ogun State', 'titi.ogunleye@gmail.com', 'Mrs Ogunleye', '08056789014', '', '', 'O+', 'AA', ''),\r\n",
                "('Abiodun Adekoya', '2003-10-12', 'Male', 'OG/2022/016', '2023-01-22', 'No 3 Oke-Ilewo Street, Abeokuta Ogun State', 'abiodun.adekoya@gmail.com', 'Mr Adekoya', '08067890125', '', '', 'B-', 'BO', ''),\r\n",
                "('Nkechi Okoro', '2005-03-28', 'Female', 'OG/2022/017', '2023-01-22', 'No 6 Agbeloba House, Isara-Remo Ogun State', 'nkechi.okoro@gmail.com', 'Mrs Okoro', '08012345670', '', '', 'AB+', 'AS', 10)\r\n",
                "SET IDENTITY_INSERT ADM_REC.STUDENTS OFF"
            ],
            "metadata": {
                "azdata_cell_guid": "11802cdf-0c89-4615-81da-59c90214cd01",
                "language": "sql",
                "tags": [
                    "hide_input"
                ]
            },
            "outputs": [],
            "execution_count": null
        },
        {
            "cell_type": "code",
            "source": [
                "--INSERT DATA INTO PARENT TABLE\r\n",
                "SET IDENTITY_INSERT ADM_REC.PARENT ON\r\n",
                "INSERT INTO ADM_REC.PARENT(PARENT_NAME,PARENT_ADD, EMAIL_ADD, PHONE_NO,OCCUPATION, GENDER, RELATIONSHIP,FATHER_NAME,MOTHER_NAME, GUARDIAN_NAME)\r\n",
                "VALUES\r\n",
                "('Mrs Adekunle', 'No 5 Ijebu-Ode Road Sagamu Ogun State', 'adekunle@yahoo.com', '08023456789', 'Businesswoman', 'Female', 'Mother', 'Mr Adekunle', '', ''),\r\n",
                "('Mr Sule', 'No 1 Adeola Street Abeokuta Ogun State', 'sule@gmail.com', '08034567890', 'Engineer', 'Male', 'Father', 'Mr Sule', '',''),\r\n",
                "('Mrs Oke', 'No 3 Ibara Housing Estate Abeokuta Ogun State', 'oke.kemi@yahoo.com', '08045678901', 'Teacher', 'Female', 'Mother', 'Mr Oke', '', 'Mrs Gbolahan'),\r\n",
                "('Mr Bello', 'No 2 Ake Palace Road Abeokuta Ogun State', 'adetola.bello@gmail.com', '08056789012', 'Doctor', 'Male', 'Father', 'Mr Bello', '', ''),\r\n",
                "('Mrs Okafor', 'No 4 Ijebu-Igbo Road Ago-Iwoye Ogun State', 'okafor.ngozi@yahoo.com', '08067890123', 'Businesswoman', 'Female', 'Mother', '', 'Mrs Okafor', 'Mr Andrew'),\r\n",
                "('Mr Fashola', 'No 6 Unity Road Ota Ogun State', 'bolaji.fashola@gmail.com', '08078901234', 'Businessman', 'Male', 'Father', 'Mr Fashola', '', ''),\r\n",
                "('Mrs Usman', 'No 10 Akinremi Street Ijebu-Ode Ogun State', 'usmanamina@gmail.com', '08089012345', 'Nurse', 'Female', 'Mother', '', 'Mrs Usman', 'Gen.Buhari'),\r\n",
                "('Mr Salami', 'No 8 Ojere Road, Abeokuta Ogun State', 'jide.salami@yahoo.com', '08090123456', 'Banker', 'Male', 'Father', 'Mr Salami', '', ''),\r\n",
                "('Mrs Adewale', 'No 12 Ijebu-Ode Road Ijebu-Igbo Ogun State', 'adewaledele@gmail.com', '09087653432', 'Trader', 'Female', 'Mother', 'Mr Adewale', '', ''),\r\n",
                "('Mrs Okoro', 'No 6 Agbeloba House, Isara_Remo Ogun State', 'graceokoro@gmail.com', '09083456321', 'Doctor', 'Female', 'Mother', 'Mr Okoro', '','')\r\n",
                "SET IDENTITY_INSERT ADM_REC.PARENT OFF"
            ],
            "metadata": {
                "language": "sql",
                "azdata_cell_guid": "c794d064-1ce7-4ff1-a4f7-a04e7bdfa75f",
                "tags": [
                    "hide_input"
                ]
            },
            "outputs": [],
            "execution_count": null
        },
        {
            "cell_type": "code",
            "source": [
                "--INSERT DATA INTO DEPT TABLE\r\n",
                "SET IDENTITY_INSERT ADM_REC.DEPT ON\r\n",
                "INSERT INTO ADM_REC.DEPT (DEPT_NAME)\r\n",
                "VALUES\r\n",
                "('ACADEMICS'),\r\n",
                "('WORKS'),\r\n",
                "('HEALTH'),\r\n",
                "('ACCOUNTS'),\r\n",
                "('ADMINISTRATIVE')\r\n",
                "SET IDENTITY_INSERT ADM_REC.DEPT OFF"
            ],
            "metadata": {
                "azdata_cell_guid": "a3afc2ee-6b54-421c-8f66-491a43bcd63d",
                "language": "sql",
                "tags": [
                    "hide_input"
                ]
            },
            "outputs": [],
            "execution_count": null
        },
        {
            "cell_type": "code",
            "source": [
                "--INSERT DATA INTO STAFF TABLE\r\n",
                "SET IDENTITY_INSERT ADM_REC.STAFF ON\r\n",
                "INSERT INTO ADM_REC.STAFF(STAFF_NAME, STAFF_REG_NO,APPOINTMENT_DATE,PHONE_NO,EMAIL_ADD,JOB_TITLE,DOB,GENDER,QUALIFICATION,YEAROFSERVICE,NEXTOFKIN,DISABILITY,EMER_CONTACT, DEPT_ID)\r\n",
                "VALUES \r\n",
                "('Funke Adeyemi', 'OG/ST/001', '2017-04-20', '08045678901', 'funkeadeyemi@yahoo.com', 'Biology Teacher', '1983-01-15', 'Female', 'B.Sc', 12, 'Tunde Adeyemi', 'None', '08065432109',1),\r\n",
                "('Ibrahim Yusuf', 'OG/ST/002', '2021-02-28', '08056789012', 'ibrahimyusuf@gmail.com', 'Mathematics Teacher', '1990-06-06', 'Male', 'B.Sc', 1, 'Rukayat Yusuf', 'None', '08054321098',1),\r\n",
                "('Adeola Adeleke','OG/ST/003', '2015-11-05', '08067890123', 'adeolaadeleke@gmail.com', 'Chemistry Teacher', '1975-02-28', 'Female', 'B.Sc', 16, 'Femi Adeleke', 'None', '08043210987',1),\r\n",
                "('Ahmed Aliu', 'OG/ST/004', '2016-08-12', '08078901234', 'ahmedaliu@yahoo.com', 'History Teacher', '1982-09-17', 'Male', 'B.Ed', 15, 'Nafisat Aliu', 'None', '08032109876',1),\r\n",
                "('Grace Akinde', 'OG/ST/005', '2014-05-08', '08089012345', 'graceakindele@gmail.com', 'English Language Teacher', '1971-12-20', 'Female', 'B.A', 19, 'Wale Akindele', 'None', '08021098765',1),\r\n",
                "('Kayode Ajayi', 'OG/ST/006', '2013-01-30', '08090123456', 'kayodeajayi@yahoo.com', 'Principal', '1978-10-18', 'Male', 'M.sc', 22, 'Bisi Ajayi', 'None', '08010987654',5),\r\n",
                "('Bola Adeleke','OG/ST/007', '2012-06-15', '08001234567', 'bolaadeleke@gmail.com', 'Vice Principal', '1973-04-01', 'Female', 'B.sc', 23, 'Tunji Adeleke', 'None', '08109876543',5),\r\n",
                "('Ola Oladipo', 'OG/ST/008', '2021-09-01', '08029383838', 'None', 'Security Guard', '1983-04-04','Male', 'SSCE', 15, 'Bisi Oladipo', 'None', '09085854321',2),\r\n",
                "('Victoria Ajayi', 'OG/ST/009', '2018-09-12', '08124352632', 'None', 'Cleaner', '1987-08-19', 'Female', 'SSCE', 10, 'Toyosi Ajayi', 'None', '09162536282',2),\r\n",
                "('Hassan Mohammed', 'OG/ST/010', '2020-07-01', '08012349876',\t'hassanm@yahoo.com', 'Geography Teacher', '1982-03-15','Male', 'B.Ed. Geography',\t7 ,'Amina Mohammed','None', '09087654321', 1),\r\n",
                "('Bisi Adekunle', 'OG/ST/011', '2018-12-01', '08056789012', 'bisiadekunle@gmail.com', 'Biology Teacher', '1987-08-20', 'Female', 'B.Sc. Biology', 4, 'Segun Adekunle', 'None', '08123456789', 1),\r\n",
                "('Emeka Okoro', 'OG/ST/012', '2021-02-01', '08090123456', 'emekaokoro@gmail.com', 'Physics Teacher', '1981-06-30', 'Male', 'B.Sc. Physics', 2,\t'Chioma Okoro', 'None', '08187654321', 1),\r\n",
                "('Amina Ibrahim', 'OG/ST/013', '2019-04-01', '08067890123', 'aminaibrahim@gmail.com', 'Chemistry Teacher', '1988-12-12', 'Female', 'B.Sc. Chemistry', 6,  'Ali Ibrahim', 'None', '08023456789', 1),\r\n",
                "('Chidi Okafor','OG/ST/014', '2020-08-01', '08012345678', 'chidiokafor@gmail.com', 'Economics Teacher', '1983-10-22',\t'Male', 'B.Sc. Economics', 5,'Nneka Okafor', 'None','09087654321', 1),\r\n",
                "('Adeola Williams', 'OG/ST/015', '2017-11-01', '08087654321', 'adeolawilliams@yahoo.com', 'Literature Teacher', '1984-04-18', 'Female', 'B.Ed. English Literature', 8,\t'Olumide Williams', 'None', '08134567890',1),\r\n",
                "('Yusuf Abdul', 'OG/ST/016', '2021-03-01', '08012349876', 'yusufabdul@gmail.com', 'Computer Science Teacher', '1980-11-09', 'Male', 'B.Sc. Computer Science', 3, 'Rukayat Abdul', 'None', '08023456789', 1),\r\n",
                "('Nkechi Obi', 'OG/ST/017', '2018-06-01', '08056789012', 'nkechiobi@gmail.com', 'Government Teacher', '1986-02-14', 'Female', 'B.Sc. Political Science', 4, 'Ugochukwu Obi','None', '08120304323', 1),\r\n",
                "('Musa Oladimeji', 'OG/ST/018', '2019-05-01', '08012343876', 'musaola@gmail.com', 'Driver', '1987-06-15', 'Male', 'OND', 3, 'Eunice Oladimeji', 'None', '09087632121',2),\r\n",
                "('Joseph Adedayo', 'OG/ST/019', '2020-08-21', '08056656412', 'josephadedayo@gmail.com', 'Driver', '1989-01-19', 'Male', 'OND', 4, 'Grace Adedayo', 'None', '08112766789',2),\r\n",
                "('Sunday Lemina', 'OG/ST/020', '2021-02-01', '08045217456', 'sunday_lemina@gmail.com', 'Technician', '1979-11-29', 'Male', 'HND', 3, 'Tofunmi Lemina', 'None', '08181298031',2),\r\n",
                "('Ibrahim Sanusi', 'OG/ST/021', '2019-04-01', '08128790123', 'ibrahimsanusi09@gmail.com', 'Technician', '1991-12-12', 'Male', 'HND', 6, 'Pelumi Sanusi', 'None', '08123456789',2),\r\n",
                "('Abiodun Momoh', 'OG/ST/022', '2020-08-01', '08012388768', 'None', 'Driver', '1985-12-22', 'Male', 'OND', 8, 'Penny Momoh', 'None', '09012623321', 2),\r\n",
                "('Otedola Koker', 'OG/ST/023', '2017-11-01', '08088821321', 'None', 'Driver', '1982-04-19', 'Male', 'OND', 11, 'John Koker', 'None', '08098567890',2),\r\n",
                "('Fiyin Ajayi', 'OG/ST/024', '2021-03-01', '08198344876', 'None', 'Security Guard', '1983-03-19', 'Male', 'OND', 3, 'Feyi Ajayi', 'None', '08026262889',2),\r\n",
                "('Usman Rasaq', 'OG/ST/025', '2021-04-14', '09022332211', 'rasaqusman@gmail.com','Accountant', '1987-05-11', 'Male', 'Bsc', 4, 'Yinka Rasaq', 'None', '08123456754', 4),\r\n",
                "('Enilolobo Grace', 'OG/ST/026', '2019-08-01', '09066546786', 'graceenilolobo@gmail.com', 'Bursary', '1992-02-13', 'Female', 'HND', 5, 'Joseph Enilolobo', 'None', '09090126745', 4),\r\n",
                "('Shodiya Emmanuel', 'OG/ST/027', '2020-09-12', '08120604534', 'emmashodiya@gmail.com', 'Nurse', '1990-12-24', 'Male', 'Nursing and Midwifery', 6, 'Shodiya Pelumi', 'None', '08160202716', 3),\r\n",
                "('Funsho Williams', 'OG/ST/28', '2021-09-12', '09073212345', 'funshon@gmail.com', 'Libarian', '1990-07-06', 'Male', 'BSC',4, 'Dapo williams', 'None' ,'09044557799', 1 ),\r\n",
                "('Isaac Gordons', 'OG/ST/29', '2021-09-12', '09071278345', 'isaacgordons@gmail.com', 'Library Assistant', '1992-08-16', 'Male', 'OND',3, 'Anthony Peters', 'None', '09043787799', 1 ),\r\n",
                "('Aishat Olamide', 'OG/ST/30', '2019-09-14', '0907932345', 'aisolami@gmail.com', 'Nurse', '1989-10-01', 'Female', 'Nurse and Midwifery',4, 'Femi Animashaun', 'None', '0904413799', 3 ),\r\n",
                "('Jumoke Goke', 'OG/ST/31', '2022-09-12', '09072380345', 'jumoke12@gmail.com', 'CHEW', '1992-07-11', 'Female', 'HND', 3, 'John Goke', 'None', '09044554869', 3 )\r\n",
                "set IDENTITY_INSERT adm_rec.STAFF OFF"
            ],
            "metadata": {
                "language": "sql",
                "azdata_cell_guid": "ca80bc69-fe81-4955-b191-94511752448f",
                "tags": [
                    "hide_input"
                ]
            },
            "outputs": [],
            "execution_count": null
        },
        {
            "cell_type": "code",
            "source": [
                "--INSERT RECORDS INTO TEACHER TABLE\r\n",
                "SET IDENTITY_INSERT ADM_REC.TEACHER ON\r\n",
                "INSERT INTO ADM_REC.TEACHER(TEACHER_ID,TEACHER_NAME,STAFF_ID)\r\n",
                "VALUES\r\n",
                "(101, 'Funke Adeyemi', 001),\r\n",
                "(102, 'Ibrahim Yusuf',002),\r\n",
                "(103, 'Adeola Adeleke', 003),\r\n",
                "(104, 'Ahmed Aliu', 004),\r\n",
                "(105, 'Grace Akinde', 005),\r\n",
                "(106, 'Hassan Mohammed', 010),\r\n",
                "(107, 'Bisi Adekunle', 011),\r\n",
                "(108, 'Emeka Okoro', 12),\r\n",
                "(109, 'AMINA IBRAHIM',13),\r\n",
                "(110, 'CHIDI OKAFOR', 14),\r\n",
                "(111, 'ADEOLA WILLIAMS', 15),\r\n",
                "(112, 'YUSUF ABDUL', 16),\r\n",
                "(113, 'NKECHI OBI', 17)\r\n",
                "\r\n",
                "SET IDENTITY_INSERT ADM_REC.TEACHER OFF"
            ],
            "metadata": {
                "language": "sql",
                "azdata_cell_guid": "a38b8f25-0dbc-4f28-8f07-87b0f0d57aa0",
                "tags": [
                    "hide_input"
                ]
            },
            "outputs": [],
            "execution_count": null
        },
        {
            "cell_type": "code",
            "source": [
                "-- INSERT INTO CLASS TABLE\r\n",
                "SET IDENTITY_INSERT ADM_REC_CLASS ON\r\n",
                "INSERT INTO ADM_REC.CLASS(CLASS_ID, CLASS_NAME, CLASS_TEACHER)\r\n",
                "VALUES\r\n",
                "(1, 'SSS1 SCI', 101),\r\n",
                "(2,'SS1 A&C', 102),\r\n",
                "(3, 'SS2 SCI',103),\r\n",
                "(4, 'SS2 A&C', 104),\r\n",
                "(5, 'SS3 SCI', 105),\r\n",
                "(6, 'SS3 A&C',105)\r\n",
                "SET IDENTITY_INSERT ADM_REC_CLASS OFF"
            ],
            "metadata": {
                "language": "sql",
                "azdata_cell_guid": "be930def-cfeb-4d44-a452-4bcc9844cfa5",
                "tags": [
                    "hide_input"
                ]
            },
            "outputs": [],
            "execution_count": null
        },
        {
            "cell_type": "code",
            "source": [
                "--INSERT DATA INTO SUBJECT TABLE\r\n",
                "SET IDENTITY_INSERT ADM_ACA.SUBJECTS ON\r\n",
                "INSERT INTO ADM_ACA.SUBJECTS(SUBJECT_ID, SUBJECT_NAME, CLASS_ID, SUBJECT_TEACHER)\r\n",
                "VALUES\r\n",
                "(1, 'BIOLOGY', 1,101 ),\r\n",
                "(2, 'CHEMISTRY', 1, 103),\r\n",
                "(3, 'ENGLISH LANGUAGE', 1, 105),\r\n",
                "(4, 'GEOGRAPHY', 1, 106),\r\n",
                "(5, 'PHYSICS', 1, 108),\r\n",
                "(6, 'GOVERNMENT', 2, 113),\r\n",
                "(7, 'LITERATURE', 2,  111),\r\n",
                "(8, 'MATHEMATICS', 1, 102),\r\n",
                "(9, 'MATHEMATICS', 2, 102),\r\n",
                "(10, 'HISTORY', 2, 104),\r\n",
                "(11, 'ENGLISH LANGUAGE', 2, 105),\r\n",
                "(12, 'BIOLOGY', 5, 107),\r\n",
                "(13, 'PHYSICS', 3, 108),\r\n",
                "(14, 'ECONOMICS', 2, 110),\r\n",
                "(15, 'GOVERNMENT', 4, 113),\r\n",
                "(16, 'COMPUTER SCIENCE', 1, 112),\r\n",
                "(17, 'LITERATURE', 6, 111),\r\n",
                "(18, 'CHEMISTRY', 5, 109),\r\n",
                "(19, 'BIOLOGY', 5, 107),\r\n",
                "(20, 'BIOLOGY', 3, 107),\r\n",
                "(21, 'GEOGRAPHY', 3, 106),\r\n",
                "(22, 'HISTORY', 6,104)\r\n",
                "\r\n",
                "SET IDENTITY_INSERT ADM_ACA.SUBJECTS OFF"
            ],
            "metadata": {
                "language": "sql",
                "azdata_cell_guid": "979d4bbe-ab89-407c-8e5e-f69a5ca44c5e",
                "tags": [
                    "hide_input"
                ]
            },
            "outputs": [],
            "execution_count": null
        },
        {
            "cell_type": "code",
            "source": [
                "-- INSERT INTO SALARY TABLE\r\n",
                "SET IDENTITY_INSERT ADM_REC.SALARY ON\r\n",
                "INSERT INTO ADM_REC.SALARY(SALARY_ID, STAFF_ID, DEPT_ID, SALARY)\r\n",
                "VALUES\r\n",
                "(1,1,1,70000),\r\n",
                "(2,2,1,70000),\r\n",
                "(3,3,1, 70000),\r\n",
                "(4,4,1,70000),\r\n",
                "(5,5,1, 70000),\r\n",
                "(6,6,5, 120000),\r\n",
                "(7,7, 5, 100000),\r\n",
                "(8,8, 2, 30000),\r\n",
                "(9,9, 2, 30000),\r\n",
                "(10,10, 1, 70000),\r\n",
                "(11, 11, 1, 70000),\r\n",
                "(12,12, 1, 70000),\r\n",
                "(13,13, 1, 70000),\r\n",
                "(14,14, 1, 70000),\r\n",
                "(15,15, 1, 70000),\r\n",
                "(16,16, 1, 70000),\r\n",
                "(17,17, 1, 70000),\r\n",
                "(18,18, 2, 45000),\r\n",
                "(19,19, 2, 45000),\r\n",
                "(20,20, 2, 55000),\r\n",
                "(21,21, 2, 55000),\r\n",
                "(22,22, 2, 45000),\r\n",
                "(23,23, 2, 45000),\r\n",
                "(24,24,2,35000)\r\n",
                "SET IDENTITY_INSERT ADM_REC.SALARY OFF"
            ],
            "metadata": {
                "language": "sql",
                "azdata_cell_guid": "d8d47389-b31d-46b5-8803-2f7c5ffe9d9b",
                "tags": [
                    "hide_input"
                ]
            },
            "outputs": [],
            "execution_count": null
        },
        {
            "cell_type": "markdown",
            "source": [
                "### <mark>FEE STATUS( '0'- NOT PAID, '1'- PAID. SHOWING STUDENTS OWING</mark>"
            ],
            "metadata": {
                "language": "sql",
                "azdata_cell_guid": "a3ae06b0-a87c-413b-a9ea-5ee342365de1"
            },
            "attachments": {}
        },
        {
            "cell_type": "code",
            "source": [
                "--ENTER VALUE INTO SCH_FEE\r\n",
                "INSERT INTO ADM_REC.SCH_FEE(STUDENT_ID, PARENT_ID, CLASS_ID, SCH_FEE, FEE_STATUS)\r\n",
                "VALUES\r\n",
                "(001,001, 006, 118000, 1),\r\n",
                "(002, 002, 001, 92000, 1),\r\n",
                "(003,003, 004, 109000, 0),\r\n",
                "(004,004, 002, 92000, 1),\r\n",
                "(005, 005, 001,92000, 1),\r\n",
                "(006, 006, 005, 118000, 0),\r\n",
                "(007,007, 003, 109000, 1),\r\n",
                "(008,008,005,118000,1),\r\n",
                "(008, 008,002,92000,0),\r\n",
                "(009,009,004,109000,1),\r\n",
                "(010,009,003,109000,0),\r\n",
                "(011,010,005,118000,1),\r\n",
                "(012, NULL, 003, 109000,1),\r\n",
                "(013, NULL, 006, 118000,1),\r\n",
                "(014, NULL, 002, 92000,0),\r\n",
                "(015, NULL, 001, 92000,1),\r\n",
                "(016, 10, 003, 109000,1)"
            ],
            "metadata": {
                "language": "sql",
                "azdata_cell_guid": "efe9c4bb-6579-4318-bc5f-18bdd7a6f8d5",
                "tags": [
                    "hide_input"
                ]
            },
            "outputs": [],
            "execution_count": null
        },
        {
            "cell_type": "code",
            "source": [
                "-- INPUT DATA FOR BUS DRIVER\r\n",
                "INSERT INTO ADM_WORKS.BUS_DRIVER (DRIVER_ID, STAFF_ID) \r\n",
                "VALUES\r\n",
                "(001, 18),\r\n",
                "(002, 19),\r\n",
                "(003, 22),\r\n",
                "(004, 23)"
            ],
            "metadata": {
                "language": "sql",
                "azdata_cell_guid": "38ee9b6b-1561-45be-9f21-003c86699a80",
                "tags": [
                    "hide_input"
                ]
            },
            "outputs": [],
            "execution_count": null
        },
        {
            "cell_type": "code",
            "source": [
                "--INPUT FOR BUS\r\n",
                "INSERT INTO ADM_WORKS.BUS(BUS_ID, DRIVER_ID)\r\n",
                "VALUES\r\n",
                "(301, 1),\r\n",
                "(302, 2),\r\n",
                "(303,3),\r\n",
                "(304, 4)"
            ],
            "metadata": {
                "language": "sql",
                "azdata_cell_guid": "3b1bc6bb-29ea-463b-8654-3698f66f28fb",
                "tags": [
                    "hide_input"
                ]
            },
            "outputs": [],
            "execution_count": null
        },
        {
            "cell_type": "code",
            "source": [
                "-- DATA FOR ADM_WORKS.BUS_ROUTE\r\n",
                "INSERT INTO ADM_WORKS.BUS_ROUTE(BUS_ID, ROUTE_ID, STUDENT_ID, DRIVER_ID)\r\n",
                "VALUES\r\n",
                "(304, 005, 15,  4),\r\n",
                "(304, 005, 6,  4),\r\n",
                "(304, 006, 7,  4),\r\n",
                "(304, 006, 12, 4)"
            ],
            "metadata": {
                "language": "sql",
                "azdata_cell_guid": "782b8cf8-c904-4df3-bc5d-aac5a650fe09",
                "tags": [
                    "hide_input"
                ]
            },
            "outputs": [],
            "execution_count": null
        },
        {
            "cell_type": "code",
            "source": [
                "-- DATA FOR ROUTE DESTINATION\r\n",
                "INSERT INTO ADM_WORKS.ROUTE_DESTINATION(ROUTE_ID, ROUTE_DEST, ROUTE_NAME)\r\n",
                "VALUES\r\n",
                "(001, 'OBANTOKO-IBARA', 'OBANTOKO'),\r\n",
                "(002, 'OKE-MOSAN-IBARA', 'OKE-MOSAN'),\r\n",
                "(003, 'SAJE-IBARA', 'SAJE'),\r\n",
                "(004, 'KEMTA-IBARA', 'KEMTA'),\r\n",
                "(005, 'ELEGA-IBARA', 'ELEGA'),\r\n",
                "(006, 'LAFENWA-IBARA', 'LAFENWA')"
            ],
            "metadata": {
                "language": "sql",
                "azdata_cell_guid": "f0125494-6ca3-4fff-9406-e59e403b704b",
                "tags": [
                    "hide_input"
                ]
            },
            "outputs": [],
            "execution_count": null
        },
        {
            "cell_type": "code",
            "source": [
                "-- DATA FOR BOOK CATEGORY\r\n",
                "INSERT INTO ADM_REC.BOOKS_CATEGORY(CAT_ID, CAT_NAME)\r\n",
                "VALUES\r\n",
                "(1, 'GENERAL BOOKS'),\r\n",
                "(2, 'LITERATURE'),\r\n",
                "(3, 'HISTORY'),\r\n",
                "(4, 'SCIENCE BOOK'),\r\n",
                "(5, 'MEDICAL JOURNALS')"
            ],
            "metadata": {
                "language": "sql",
                "azdata_cell_guid": "32f5de0b-3ba1-40e2-a6d9-226ca56a9b07",
                "tags": [
                    "hide_input"
                ]
            },
            "outputs": [],
            "execution_count": null
        },
        {
            "cell_type": "code",
            "source": [
                "--DATA FOR CLINIC STAFF\r\n",
                "INSERT INTO ADM_WORKS.CLINIC(STAFF_ID)\r\n",
                "VALUES\r\n",
                "(27),\r\n",
                "(30),\r\n",
                "(31)"
            ],
            "metadata": {
                "azdata_cell_guid": "1e123d6d-02b6-431b-ac42-333002a4a476",
                "language": "sql",
                "tags": []
            },
            "outputs": [],
            "execution_count": null
        },
        {
            "cell_type": "code",
            "source": [
                "--DATA FOR STUDENT CLASS\r\n",
                "INSERT INTO ADM_ACA.STUDENTCLASS(CLASS_ID, STUDENT_ID)\r\n",
                "VALUES\r\n",
                "(5,1),\r\n",
                "(4,2),\r\n",
                "(6,3),\r\n",
                "(2,5),\r\n",
                "(4,6),\r\n",
                "(3,7),\r\n",
                "(6,8),\r\n",
                "(5,9),\r\n",
                "(1,10),\r\n",
                "(4,11),\r\n",
                "(5,12),\r\n",
                "(6,13),\r\n",
                "(2,14),\r\n",
                "(5,15),\r\n",
                "(2,16)"
            ],
            "metadata": {
                "azdata_cell_guid": "1017f63b-6ba6-4cce-83d9-e9857fad002d",
                "language": "sql",
                "tags": [
                    "hide_input"
                ]
            },
            "outputs": [],
            "execution_count": null
        },
        {
            "cell_type": "code",
            "source": [
                "-- DATA FOR LIB\r\n",
                "INSERT INTO ADM_REC.LIB(LIB_ID, STUDENT_ID)\r\n",
                "VALUES\r\n",
                "('LIB/001',1),\r\n",
                "('LIB/002', 2),\r\n",
                "('LIB/003',3),\r\n",
                "('LIB/005', 5),\r\n",
                "('LIB/006', 6),\r\n",
                "('LIB/007', 7),\r\n",
                "('LIB/008',8),\r\n",
                "('LIB/009', 9),\r\n",
                "('LIB/010',10),\r\n",
                "('LIB/011', 11),\r\n",
                "('LIB/012', 12),\r\n",
                "('LIB/013',13),\r\n",
                "('LIB/014', 14),\r\n",
                "('LIB/015',15),\r\n",
                "('LIB/016', 16)"
            ],
            "metadata": {
                "language": "sql",
                "azdata_cell_guid": "e853e0bc-33b2-437f-849e-1d6b96bc748c",
                "tags": [
                    "hide_input"
                ]
            },
            "outputs": [],
            "execution_count": null
        }
    ]
}